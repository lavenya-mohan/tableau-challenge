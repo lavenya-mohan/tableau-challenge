{
 "cells": [
  {
   "cell_type": "code",
   "execution_count": 2,
   "metadata": {},
   "outputs": [
    {
     "name": "stdout",
     "output_type": "stream",
     "text": [
      "            ride_id rideable_type               started_at  \\\n",
      "0  7FB44ACE772F2B5E  classic_bike  2020-01-16 11:29:00.511   \n",
      "1  514091422D32E0D4  classic_bike  2020-01-15 12:49:13.094   \n",
      "2  C094CBA14014648D  classic_bike  2020-01-02 08:54:03.681   \n",
      "3  6675D4453C4DBFE4  classic_bike  2020-01-24 12:58:28.499   \n",
      "4  FE65CE25E01D48B7  classic_bike  2020-01-16 13:19:43.325   \n",
      "\n",
      "                  ended_at  start_station_name start_station_id  \\\n",
      "0  2020-01-16 11:38:38.211  E 47 St & Park Ave          6584.12   \n",
      "1  2020-01-15 13:23:30.078  Carmine St & 6 Ave          5763.03   \n",
      "2  2020-01-02 09:05:19.023  Carmine St & 6 Ave          5763.03   \n",
      "3  2020-01-24 13:08:07.169  Carmine St & 6 Ave          5763.03   \n",
      "4  2020-01-16 13:29:40.861  Carmine St & 6 Ave          5763.03   \n",
      "\n",
      "          end_station_name end_station_id  start_lat  start_lng    end_lat  \\\n",
      "0          5 Ave & E 63 St        6904.06  40.755103 -73.974987  40.766368   \n",
      "1      Mott St & Prince St        5561.04  40.730386 -74.002150  40.723180   \n",
      "2  Allen St & Rivington St        5414.06  40.730386 -74.002150  40.720196   \n",
      "3  Allen St & Rivington St        5414.06  40.730386 -74.002150  40.720196   \n",
      "4  Allen St & Rivington St        5414.06  40.730386 -74.002150  40.720196   \n",
      "\n",
      "     end_lng member_casual  \n",
      "0 -73.971518        member  \n",
      "1 -73.994800        member  \n",
      "2 -73.989978        member  \n",
      "3 -73.989978        member  \n",
      "4 -73.989978        member  \n"
     ]
    }
   ],
   "source": [
    "import pandas as pd\n",
    "import glob\n",
    "\n",
    "# Set the path to your CSV files\n",
    "csv_files = glob.glob(r\"C:\\Users\\lavyh\\Documents\\2020 Citi Bike Trip Data\\*.csv\")\n",
    "\n",
    "# Read and concatenate all CSV files into one DataFrame\n",
    "df_list = [pd.read_csv(file, low_memory=False) for file in csv_files]\n",
    "combined_df = pd.concat(df_list, ignore_index=True)\n",
    "\n",
    "# Optional: Save the combined DataFrame to a new CSV file\n",
    "combined_df.to_csv(r\"C:\\Users\\lavyh\\Documents\\2020 Citi Bike Trip Data\\combined_citibike_data.csv\", index=False)\n",
    "\n",
    "# Print the first few rows of the combined DataFrame\n",
    "print(combined_df.head())\n"
   ]
  }
 ],
 "metadata": {
  "kernelspec": {
   "display_name": "base",
   "language": "python",
   "name": "python3"
  },
  "language_info": {
   "codemirror_mode": {
    "name": "ipython",
    "version": 3
   },
   "file_extension": ".py",
   "mimetype": "text/x-python",
   "name": "python",
   "nbconvert_exporter": "python",
   "pygments_lexer": "ipython3",
   "version": "3.12.3"
  }
 },
 "nbformat": 4,
 "nbformat_minor": 2
}
